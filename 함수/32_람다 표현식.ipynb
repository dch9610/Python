{
 "metadata": {
  "language_info": {
   "codemirror_mode": {
    "name": "ipython",
    "version": 3
   },
   "file_extension": ".py",
   "mimetype": "text/x-python",
   "name": "python",
   "nbconvert_exporter": "python",
   "pygments_lexer": "ipython3",
   "version": "3.8.5-final"
  },
  "orig_nbformat": 2,
  "kernelspec": {
   "name": "python3",
   "display_name": "Python 3",
   "language": "python"
  }
 },
 "nbformat": 4,
 "nbformat_minor": 2,
 "cells": [
  {
   "source": [
    "## 람다 표현식 사용하기\n",
    "- 함수를 간편하게 작성할  수 있어서 다른 함수의 인수로 넣을 떄 사용"
   ],
   "cell_type": "markdown",
   "metadata": {}
  },
  {
   "cell_type": "code",
   "execution_count": 1,
   "metadata": {},
   "outputs": [
    {
     "output_type": "execute_result",
     "data": {
      "text/plain": [
       "11"
      ]
     },
     "metadata": {},
     "execution_count": 1
    }
   ],
   "source": [
    "# lambda 매개변수들 : 식\n",
    "plus_ten = lambda x : x+10\n",
    "plus_ten(1)"
   ]
  },
  {
   "source": [
    "### 1.1 람다 표현식 자체를 호출하기\n",
    "* (lambda 매개변수들 : 식) (인수들)"
   ],
   "cell_type": "markdown",
   "metadata": {}
  },
  {
   "cell_type": "code",
   "execution_count": 5,
   "metadata": {},
   "outputs": [
    {
     "output_type": "execute_result",
     "data": {
      "text/plain": [
       "12"
      ]
     },
     "metadata": {},
     "execution_count": 5
    }
   ],
   "source": [
    "(lambda x : x+10)(2)"
   ]
  },
  {
   "source": [
    "### 1.2 람다 표현식 안에서는 변수를 만들수 없다.\n",
    "- 변수가 필요한 경우 함수로 작성하거나, 표현식 밖에서 변수 선언"
   ],
   "cell_type": "markdown",
   "metadata": {}
  },
  {
   "cell_type": "code",
   "execution_count": 6,
   "metadata": {},
   "outputs": [
    {
     "output_type": "execute_result",
     "data": {
      "text/plain": [
       "12"
      ]
     },
     "metadata": {},
     "execution_count": 6
    }
   ],
   "source": [
    "y = 10 \n",
    "(lambda x : x+y)(2)"
   ]
  },
  {
   "source": [
    "### 1.3 람다 표현식을 인수로 사용하기\n",
    "- 함수의 인수 부분에서 간단하게 함수를 만들기 위해서 map을 사용"
   ],
   "cell_type": "markdown",
   "metadata": {}
  },
  {
   "cell_type": "code",
   "execution_count": 10,
   "metadata": {},
   "outputs": [
    {
     "output_type": "execute_result",
     "data": {
      "text/plain": [
       "[11, 12, 13]"
      ]
     },
     "metadata": {},
     "execution_count": 10
    }
   ],
   "source": [
    "# def로 함수를 만들어서 map을 사용하기\n",
    "def plus_ten(x):\n",
    "    return x + 10\n",
    "\n",
    "list(map(plus_ten,[1,2,3]))"
   ]
  },
  {
   "cell_type": "code",
   "execution_count": 11,
   "metadata": {},
   "outputs": [
    {
     "output_type": "execute_result",
     "data": {
      "text/plain": [
       "[11, 12, 13]"
      ]
     },
     "metadata": {},
     "execution_count": 11
    }
   ],
   "source": [
    "list(map(lambda x : x+10,[1,2,3]))"
   ]
  },
  {
   "source": [
    "### 2.1 람다 표현식에 조건부 표현식 사용하기\n",
    "* lambda 매개변수들 : 식1 if 조건식 else 식2"
   ],
   "cell_type": "markdown",
   "metadata": {}
  },
  {
   "cell_type": "code",
   "execution_count": 14,
   "metadata": {},
   "outputs": [
    {
     "output_type": "execute_result",
     "data": {
      "text/plain": [
       "[1, 2, '3', 4, 5, '6', 7, 8, '9']"
      ]
     },
     "metadata": {},
     "execution_count": 14
    }
   ],
   "source": [
    "# 3의 배수를 문자열로 반환하기\n",
    "\n",
    "a = [1,2,3,4,5,6,7,8,9]\n",
    "list(map(lambda x : str(x) if x%3 == 0 else x , a))"
   ]
  },
  {
   "source": [
    "### 2.2 map에 객체를 여러개 넣기\n",
    "- map은 리스트 등의 반복 가능한 객체를 여러개 넣을 수도 있습니다."
   ],
   "cell_type": "markdown",
   "metadata": {}
  },
  {
   "cell_type": "code",
   "execution_count": 16,
   "metadata": {},
   "outputs": [
    {
     "output_type": "execute_result",
     "data": {
      "text/plain": [
       "[2, 8, 18, 32, 50]"
      ]
     },
     "metadata": {},
     "execution_count": 16
    }
   ],
   "source": [
    "a = [1,2,3,4,5]\n",
    "b = [2,4,6,8,10]\n",
    "\n",
    "list(map(lambda x,y : x*y, a,b))"
   ]
  },
  {
   "source": [
    "### 2.3 filter 사용하기\n",
    "- filter는 반복 가능한 객체에서 특정 조건에 맞는 요소만 가져오는데 filter에 지정한 함수의 반환값이 True일 때만 해당 요소를 가져옵니다.\n",
    "- filter (함수, 반복가능한객체)"
   ],
   "cell_type": "markdown",
   "metadata": {}
  },
  {
   "cell_type": "code",
   "execution_count": 18,
   "metadata": {},
   "outputs": [
    {
     "output_type": "execute_result",
     "data": {
      "text/plain": [
       "[8, 7, 6]"
      ]
     },
     "metadata": {},
     "execution_count": 18
    }
   ],
   "source": [
    "# 함수 사용\n",
    "def f(x):\n",
    "    return x >5 and x <10\n",
    "\n",
    "a = [8,3,2,10,15,7,6,1,4]\n",
    "\n",
    "# 함수에 조건에 맞는 값만 추출\n",
    "list(filter(f,a))"
   ]
  },
  {
   "cell_type": "code",
   "execution_count": 21,
   "metadata": {},
   "outputs": [
    {
     "output_type": "execute_result",
     "data": {
      "text/plain": [
       "[8, 7, 6]"
      ]
     },
     "metadata": {},
     "execution_count": 21
    }
   ],
   "source": [
    "# lambda 사용\n",
    "list(filter(lambda x : x > 5 and x<10,a))"
   ]
  },
  {
   "cell_type": "code",
   "execution_count": 28,
   "metadata": {},
   "outputs": [
    {
     "output_type": "execute_result",
     "data": {
      "text/plain": [
       "[8, 7, 6]"
      ]
     },
     "metadata": {},
     "execution_count": 28
    }
   ],
   "source": [
    "# 리스트 표현식 사용\n",
    "a = [8,3,2,10,15,7,6,1,4]\n",
    "[i for i in a if i>5 and i<10]"
   ]
  },
  {
   "source": [
    "### reduce 사용하기\n",
    "- reduce는 반복 가능한 객체의 각 요소를 지정된 함수로 처리한 뒤 이전 결과와 누적해서 반환\n",
    "    * 파이썬3 부터 내장함수가 아님 (from functools import reduce)\n",
    "- reduce(함수, 반복가능한 객체)"
   ],
   "cell_type": "markdown",
   "metadata": {}
  },
  {
   "cell_type": "code",
   "execution_count": 25,
   "metadata": {},
   "outputs": [],
   "source": [
    "from functools import reduce"
   ]
  },
  {
   "cell_type": "code",
   "execution_count": 26,
   "metadata": {},
   "outputs": [
    {
     "output_type": "execute_result",
     "data": {
      "text/plain": [
       "15"
      ]
     },
     "metadata": {},
     "execution_count": 26
    }
   ],
   "source": [
    "# 함수사용\n",
    "a = [1,2,3,4,5]\n",
    "def f(x,y):\n",
    "    return x+y\n",
    "reduce(f,a)"
   ]
  },
  {
   "cell_type": "code",
   "execution_count": 27,
   "metadata": {},
   "outputs": [
    {
     "output_type": "execute_result",
     "data": {
      "text/plain": [
       "15"
      ]
     },
     "metadata": {},
     "execution_count": 27
    }
   ],
   "source": [
    "# lambda 사용\n",
    "a = [1,2,3,4,5]\n",
    "reduce(lambda x,y:x+y,a)"
   ]
  },
  {
   "cell_type": "code",
   "execution_count": 33,
   "metadata": {},
   "outputs": [
    {
     "output_type": "execute_result",
     "data": {
      "text/plain": [
       "15"
      ]
     },
     "metadata": {},
     "execution_count": 33
    }
   ],
   "source": [
    "# 반복문 사용\n",
    "a = [1,2,3,4,5]\n",
    "x = a[0]\n",
    "for i in range(len(a)-1):\n",
    "    x = x + a[i+1]\n",
    "x"
   ]
  },
  {
   "source": [
    "### 32.4 연습문제 : 이미지 파일만 가져오기\n",
    "- .jpg와 .png 파일만\n",
    "- 람다 표현식을 사용해야 하며 출력 결과는 리스트 형태이여야함"
   ],
   "cell_type": "markdown",
   "metadata": {}
  },
  {
   "cell_type": "code",
   "execution_count": 50,
   "metadata": {},
   "outputs": [
    {
     "output_type": "stream",
     "name": "stdout",
     "text": [
      "['1.png', '10.jpg', '2.jpg', '3.png']\n"
     ]
    }
   ],
   "source": [
    "files = ['font','1.png','10.jpg','11.gif','2.jpg','3.png','table.xslx','spec.doxc']\n",
    "\n",
    "# 먼저 문자열에서 find 메서드를 사용하여 찾을 문자열이 있을때 인덱스를 반환하고 없을때 -1을 반환\n",
    "# x.find('.jpg') != -1 => .jpg가 있는 문자열만 출력\n",
    "\n",
    "print(list( filter( lambda x : x.find('.jpg') != -1 or x.find('.png') != -1, files ) ) )"
   ]
  },
  {
   "source": [
    "### 32.5 심사문제 : 파일 이름을 한꺼번에 바꾸기\n",
    "- 파일 이름이 숫자 3개이면서 앞에 0이 들어가는 형식으로 출력되게 만드세요\n",
    "   * ex) 1.png -> 001.png"
   ],
   "cell_type": "markdown",
   "metadata": {}
  },
  {
   "cell_type": "code",
   "execution_count": 131,
   "metadata": {},
   "outputs": [
    {
     "output_type": "stream",
     "name": "stdout",
     "text": [
      "['001.png', '002.png', '033.png', '100.png', '101.png']\n"
     ]
    }
   ],
   "source": [
    "#  files = ['1.png', '22.png', '100.png']\n",
    "files = input().split()\n",
    "\n",
    "# zfill(n) : 문자열이 n 길이가 되도록 앞에 0을 채움 \n",
    "print(list(map(lambda x : x.split('.')[0].zfill(3) + '.' + x.split('.')[1] if len(x.split('.')[0]) < 3 else x, files)))"
   ]
  }
 ]
}