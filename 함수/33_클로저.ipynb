{
 "metadata": {
  "language_info": {
   "codemirror_mode": {
    "name": "ipython",
    "version": 3
   },
   "file_extension": ".py",
   "mimetype": "text/x-python",
   "name": "python",
   "nbconvert_exporter": "python",
   "pygments_lexer": "ipython3",
   "version": "3.8.5-final"
  },
  "orig_nbformat": 2,
  "kernelspec": {
   "name": "python3",
   "display_name": "Python 3",
   "language": "python"
  }
 },
 "nbformat": 4,
 "nbformat_minor": 2,
 "cells": [
  {
   "source": [
    "## 33. 클로저 사용하기"
   ],
   "cell_type": "markdown",
   "metadata": {}
  },
  {
   "source": [
    "### 33.1 변수의 사용 범위 알아보기\n",
    "- 전역변수 : 함수를 포함하여 스크립트 전체에서 접근할 수 있는 변수\n",
    "- 전역범위 : 전역 변수에 접근할 수 있는 범위"
   ],
   "cell_type": "markdown",
   "metadata": {}
  },
  {
   "cell_type": "code",
   "execution_count": 2,
   "metadata": {},
   "outputs": [
    {
     "output_type": "stream",
     "name": "stdout",
     "text": [
      "10\n10\n"
     ]
    }
   ],
   "source": [
    "x = 10 # 전역 변수\n",
    "def foo():\n",
    "    print(x) # 전역 변수 출력\n",
    "\n",
    "foo()\n",
    "print(x) "
   ]
  },
  {
   "source": [
    "- 지역변수 : 변수를 만든 함수 안에서만 접근할 수 있는 변수"
   ],
   "cell_type": "markdown",
   "metadata": {}
  },
  {
   "cell_type": "code",
   "execution_count": 3,
   "metadata": {},
   "outputs": [
    {
     "output_type": "stream",
     "name": "stdout",
     "text": [
      "20\n10\n"
     ]
    }
   ],
   "source": [
    "x = 10 # 전역 변수\n",
    "def foo():\n",
    "    x = 20 # 지역 변수\n",
    "    print(x) # 전역 변수 출력\n",
    "\n",
    "foo()\n",
    "print(x) "
   ]
  },
  {
   "source": [
    "### 33.1.1 함수 안에서 전역변수 변경\n",
    "- global : 함수 안에서 전역변수 변경하는 키워드\n"
   ],
   "cell_type": "markdown",
   "metadata": {}
  },
  {
   "cell_type": "code",
   "execution_count": 4,
   "metadata": {},
   "outputs": [
    {
     "output_type": "stream",
     "name": "stdout",
     "text": [
      "20\n20\n"
     ]
    }
   ],
   "source": [
    "x = 10 # 전역 변수\n",
    "def foo():\n",
    "    global x # 전역변수 x 사용\n",
    "    x = 20 # x는 전역변수\n",
    "    print(x) # 전역 변수 출력\n",
    "\n",
    "foo()\n",
    "print(x) "
   ]
  },
  {
   "source": [
    "#### 네임스페이스\n",
    ": 파이썬 변수는 네임스페이스에 저장\n",
    "\n",
    "    - locals : 현재 네임스페이스를 딕셔너리 형태로 출력"
   ],
   "cell_type": "markdown",
   "metadata": {}
  },
  {
   "cell_type": "code",
   "execution_count": 7,
   "metadata": {},
   "outputs": [
    {
     "output_type": "stream",
     "name": "stdout",
     "text": [
      "{'x': 10}\n"
     ]
    }
   ],
   "source": [
    "def foo():\n",
    "    x=10\n",
    "    print(locals())\n",
    "\n",
    "foo()"
   ]
  },
  {
   "source": [
    "## 33.2 함수 안에서 함수 만들기"
   ],
   "cell_type": "markdown",
   "metadata": {}
  },
  {
   "cell_type": "code",
   "execution_count": 14,
   "metadata": {},
   "outputs": [
    {
     "output_type": "stream",
     "name": "stdout",
     "text": [
      "Hello,Python\n"
     ]
    }
   ],
   "source": [
    "# 바깥쪽 함수의 지역 변수는 그 안에 속한 모든 함수에서 접근 할 수 있다.\n",
    "def print_hello():\n",
    "    hello = \"Hello,Python\"\n",
    "    def print_message():\n",
    "        print(hello)\n",
    "    print_message()\n",
    "    \n",
    "print_hello()"
   ]
  },
  {
   "source": [
    "### 32.2.1 지역변수 변경하기\n",
    "- 바깥쪽 함수의 지역 변수를 안쪽 함수에서 변경하기"
   ],
   "cell_type": "markdown",
   "metadata": {}
  },
  {
   "cell_type": "code",
   "execution_count": 15,
   "metadata": {},
   "outputs": [
    {
     "output_type": "stream",
     "name": "stdout",
     "text": [
      "10\n"
     ]
    }
   ],
   "source": [
    "def A():\n",
    "    x = 10 # A의 지역변수\n",
    "    def B():\n",
    "        x = 20 # x에 20 할당\n",
    "    B()\n",
    "    print(x)\n",
    "\n",
    "A()"
   ]
  },
  {
   "cell_type": "code",
   "execution_count": 16,
   "metadata": {},
   "outputs": [
    {
     "output_type": "stream",
     "name": "stdout",
     "text": [
      "20\n"
     ]
    }
   ],
   "source": [
    "# nolocal 지역변수\n",
    "def A():\n",
    "    x = 10 # A의 지역변수\n",
    "    def B():\n",
    "        nonlocal x # 현재 함수의 바깥쪽에 있는 지역 변수 사용\n",
    "        x = 20 # x에 20 할당\n",
    "    B()\n",
    "    print(x)\n",
    "\n",
    "A()"
   ]
  },
  {
   "source": [
    "### 32.2.3 nonlocal이 변수를 찾는 순서\n",
    "- 지역변수를 찾을때 가장 가까운 함수부터 찾음"
   ],
   "cell_type": "markdown",
   "metadata": {}
  },
  {
   "cell_type": "code",
   "execution_count": 17,
   "metadata": {},
   "outputs": [
    {
     "output_type": "stream",
     "name": "stdout",
     "text": [
      "50\n400\n"
     ]
    }
   ],
   "source": [
    "def A():\n",
    "    x = 10\n",
    "    y = 100\n",
    "    def B():\n",
    "        x = 20\n",
    "        def C():\n",
    "            nonlocal x\n",
    "            nonlocal y\n",
    "            x = x+30 # 가장 가까운 함수B의 지역변수를 사용\n",
    "            y = y+300\n",
    "            print(x)\n",
    "            print(y)\n",
    "        C()\n",
    "    B()\n",
    "\n",
    "A()"
   ]
  },
  {
   "source": [
    "### global로 전역변수 사용하기\n",
    "- 함수가 몇개든 상관없이 global 키워드를 사용하면 무조건 전역변수를 사용"
   ],
   "cell_type": "markdown",
   "metadata": {}
  },
  {
   "cell_type": "code",
   "execution_count": 18,
   "metadata": {},
   "outputs": [
    {
     "output_type": "stream",
     "name": "stdout",
     "text": [
      "31\n400\n"
     ]
    }
   ],
   "source": [
    "x = 1\n",
    "def A():\n",
    "    x = 10\n",
    "    y = 100\n",
    "    def B():\n",
    "        x = 20\n",
    "        def C():\n",
    "            global x\n",
    "            nonlocal y\n",
    "            x = x+30 # 가장 가까운 함수B의 지역변수를 사용\n",
    "            y = y+300\n",
    "            print(x)\n",
    "            print(y)\n",
    "        C()\n",
    "    B()\n",
    "\n",
    "A()"
   ]
  },
  {
   "source": [
    "## 33.3 클로저 사용하기\n",
    "- 함수를 둘러싼 환경을 계속 유지하다가, 함수를 호출할 때 다시 꺼내서 사용하는 함수\n",
    "- 프로그램의 흐름을 변수에 저장\n",
    "- 지역변수와 코드를 묶어서 사용하고 싶을때 사용"
   ],
   "cell_type": "markdown",
   "metadata": {}
  },
  {
   "cell_type": "code",
   "execution_count": 20,
   "metadata": {},
   "outputs": [
    {
     "output_type": "stream",
     "name": "stdout",
     "text": [
      "8 11 14\n"
     ]
    }
   ],
   "source": [
    "def calc():\n",
    "    a = 3\n",
    "    b = 5\n",
    "    def mul_add(x):\n",
    "        return a * x + b # 함수 바깥쪽에 있는 지역 변수 a,b를 사용하여 계산\n",
    "    return mul_add # 함수 자체를 반환 (함수를 반환할 때는 함수 이름만 반환)\n",
    "\n",
    "# 클로저 사용\n",
    "# c에 저장된 함수가 클로저\n",
    "c = calc() # 반환값을 c에 저장 -> c에는 mul_add가 들어감\n",
    "print(c(1),c(2),c(3))"
   ]
  },
  {
   "source": [
    "### 33.3.1 lambda로 클로저 만들기\n",
    "- lambda : 이름이 없는 익명 함수\n",
    "- 클로저 : 함수를 둘러싼 환경을 유지했다가 나중에 다시 사용하는 함수"
   ],
   "cell_type": "markdown",
   "metadata": {}
  },
  {
   "cell_type": "code",
   "execution_count": 21,
   "metadata": {},
   "outputs": [
    {
     "output_type": "stream",
     "name": "stdout",
     "text": [
      "8 11 14\n"
     ]
    }
   ],
   "source": [
    "def calc():\n",
    "    a = 3\n",
    "    b = 5\n",
    "    return lambda x : a * x + b\n",
    "\n",
    "c = calc()\n",
    "print(c(1),c(2),c(3))"
   ]
  },
  {
   "source": [
    "### 33.3.2 클로저의 지역 변수 변경하기"
   ],
   "cell_type": "markdown",
   "metadata": {}
  },
  {
   "cell_type": "code",
   "execution_count": 25,
   "metadata": {},
   "outputs": [
    {
     "output_type": "stream",
     "name": "stdout",
     "text": [
      "8\n19\n"
     ]
    }
   ],
   "source": [
    "def calc():\n",
    "    a = 3\n",
    "    b = 5\n",
    "    total = 0\n",
    "    def mul_add(x):\n",
    "        nonlocal total\n",
    "        total = total + a * x + b\n",
    "        print(total)\n",
    "    return mul_add # 함수 자체를 반환 (함수를 반환할 때는 함수 이름만 반환)\n",
    "\n",
    "c = calc()\n",
    "c(1)\n",
    "c(2)"
   ]
  },
  {
   "source": [
    "### 33.4 연습문제 : 호출 횟수를 세는 함수 만들기\n",
    "- 함수 c를 호출할때마다 호출회수가 출력되게 만드세요"
   ],
   "cell_type": "markdown",
   "metadata": {}
  },
  {
   "cell_type": "code",
   "execution_count": 35,
   "metadata": {},
   "outputs": [
    {
     "output_type": "stream",
     "name": "stdout",
     "text": [
      "1 2 3 4 5 6 7 8 9 10 "
     ]
    }
   ],
   "source": [
    "def counter():\n",
    "    i = 0\n",
    "    def count():\n",
    "        nonlocal i\n",
    "        i += 1\n",
    "        return i\n",
    "    return count\n",
    "\n",
    "c = counter()\n",
    "\n",
    "for i in range(0,10):\n",
    "    print(c(),end=' ')"
   ]
  },
  {
   "source": [
    "### 33.6 심사문제 : 카운트다운 함수 만들기\n",
    "- 표준 입력으로 정수가 입력, 함수 c를 호출할 때마다 숫자가 1씩 줄어들게 만드세요."
   ],
   "cell_type": "markdown",
   "metadata": {}
  },
  {
   "cell_type": "code",
   "execution_count": 41,
   "metadata": {},
   "outputs": [
    {
     "output_type": "stream",
     "name": "stdout",
     "text": [
      "20 19 18 17 16 15 14 13 12 11 10 9 8 7 6 5 4 3 2 1 "
     ]
    }
   ],
   "source": [
    "def countdown(n):\n",
    "    i = n\n",
    "    def down():\n",
    "        nonlocal i\n",
    "        i -= 1\n",
    "        return i+1\n",
    "    return down\n",
    "\n",
    "\n",
    "n = int(input())\n",
    "c = countdown(n)\n",
    "for i in range(n):\n",
    "    print(c(), end=' ')"
   ]
  }
 ]
}