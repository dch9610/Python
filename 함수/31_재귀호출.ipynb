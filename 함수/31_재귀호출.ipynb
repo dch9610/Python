{
 "metadata": {
  "language_info": {
   "codemirror_mode": {
    "name": "ipython",
    "version": 3
   },
   "file_extension": ".py",
   "mimetype": "text/x-python",
   "name": "python",
   "nbconvert_exporter": "python",
   "pygments_lexer": "ipython3",
   "version": "3.8.5-final"
  },
  "orig_nbformat": 2,
  "kernelspec": {
   "name": "python3",
   "display_name": "Python 3",
   "language": "python"
  }
 },
 "nbformat": 4,
 "nbformat_minor": 2,
 "cells": [
  {
   "source": [
    "## 함수에서 재귀호출 사용하기\n",
    "- 함수 안에서 함수 자기 자신을 호출하는 방식\n",
    "- 일반적인 상황에서는 잘 사용하지 않지만 알고리즘을 구현할때 매우 유용"
   ],
   "cell_type": "markdown",
   "metadata": {}
  },
  {
   "source": [
    "### 31.1 재귀호출 사용하기"
   ],
   "cell_type": "markdown",
   "metadata": {}
  },
  {
   "cell_type": "code",
   "execution_count": 1,
   "metadata": {},
   "outputs": [
    {
     "output_type": "stream",
     "name": "stdout",
     "text": [
      "hello 5\nhello 4\nhello 3\nhello 2\nhello 1\n"
     ]
    }
   ],
   "source": [
    "# 재귀호출에 종료 조건 만들기 (최대 재귀 깊이를 초과하면 에러가 발생)\n",
    "def hello(count):\n",
    "    if count == 0: # 종료조건을 만듬, count가 0이면 함수를 호출하지 않고 종료\n",
    "        return\n",
    "    print(\"hello\",count)\n",
    "\n",
    "    count -= 1\n",
    "    hello(count)\n",
    "    \n",
    "hello(5)"
   ]
  },
  {
   "source": [
    "### 31.2 재귀호출로 팩토리얼 구하기"
   ],
   "cell_type": "markdown",
   "metadata": {}
  },
  {
   "cell_type": "code",
   "execution_count": 3,
   "metadata": {},
   "outputs": [
    {
     "output_type": "stream",
     "name": "stdout",
     "text": [
      "6\n"
     ]
    }
   ],
   "source": [
    "def factorial(n):\n",
    "    if n==1:        # n이 1일때 (종료조건)\n",
    "        return 1    # 1을 반환하고 재귀호출을 끝냄\n",
    "    return n * factorial(n-1)\n",
    "\n",
    "# 3*2*1 = 6\n",
    "print(factorial(3))"
   ]
  },
  {
   "source": [
    "### 31.4 연습문제 : 재귀호출로 회문 판별하기\n",
    "- 문자열이 회문인지 판별하고 결과를 True, False로 출력되게 만드세요."
   ],
   "cell_type": "markdown",
   "metadata": {}
  },
  {
   "cell_type": "code",
   "execution_count": 4,
   "metadata": {},
   "outputs": [
    {
     "output_type": "execute_result",
     "data": {
      "text/plain": [
       "'ell'"
      ]
     },
     "metadata": {},
     "execution_count": 4
    }
   ],
   "source": [
    "word = 'hello'\n",
    "word[1:-1]"
   ]
  },
  {
   "cell_type": "code",
   "execution_count": 5,
   "metadata": {},
   "outputs": [
    {
     "output_type": "stream",
     "name": "stdout",
     "text": [
      "False\nTrue\n"
     ]
    }
   ],
   "source": [
    "def is_palindrome(word):\n",
    "    if len(word)<2: # 한글자인 경우는 True, 마지막 도착지\n",
    "        return True\n",
    "    if word[0] != word[-1]: # 첫글자와 마지막 글자가 다른 경우 False\n",
    "        return False\n",
    "\n",
    "    # 위의 조건식과 일치하지 않으면 진행\n",
    "    # 첫글자와 마지막 글자를 뺀상태로 재귀호출 \n",
    "    # (여기까지 왔다는것은 첫글자와 마지막글자가 같다는 의미)\n",
    "    return is_palindrome(word[1:-1])\n",
    "\n",
    "\n",
    "\n",
    "print(is_palindrome('hello'))\n",
    "print(is_palindrome('level'))"
   ]
  },
  {
   "source": [
    "### 31.5 심사문제 : 재귀호출로 피보나치 수 구하기\n",
    "- 피보나치 수는 0과 1로 시작하며, 다음번 피보나치 수는 바로 앞의 두 피보나치 수의 합입니다."
   ],
   "cell_type": "markdown",
   "metadata": {}
  },
  {
   "cell_type": "code",
   "execution_count": 11,
   "metadata": {},
   "outputs": [
    {
     "output_type": "stream",
     "name": "stdout",
     "text": [
      "1\n[1]\n"
     ]
    }
   ],
   "source": [
    "def fib(n):\n",
    "    if n ==1 or n==2:\n",
    "        return 1\n",
    "    else:\n",
    "       return fib(n-1)+fib(n-2)\n",
    "    \n",
    "\n",
    "n = int(input())\n",
    "print(fib(n))"
   ]
  },
  {
   "cell_type": "code",
   "execution_count": null,
   "metadata": {},
   "outputs": [],
   "source": []
  },
  {
   "cell_type": "code",
   "execution_count": null,
   "metadata": {},
   "outputs": [],
   "source": []
  },
  {
   "cell_type": "code",
   "execution_count": null,
   "metadata": {},
   "outputs": [],
   "source": []
  }
 ]
}