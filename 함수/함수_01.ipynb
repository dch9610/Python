{
 "metadata": {
  "language_info": {
   "codemirror_mode": {
    "name": "ipython",
    "version": 3
   },
   "file_extension": ".py",
   "mimetype": "text/x-python",
   "name": "python",
   "nbconvert_exporter": "python",
   "pygments_lexer": "ipython3",
   "version": "3.8.5-final"
  },
  "orig_nbformat": 2,
  "kernelspec": {
   "name": "python3",
   "display_name": "Python 3",
   "language": "python"
  }
 },
 "nbformat": 4,
 "nbformat_minor": 2,
 "cells": [
  {
   "source": [
    "## 함수 사용하기"
   ],
   "cell_type": "markdown",
   "metadata": {}
  },
  {
   "source": [
    "#### 1-1 함수 만들기\n"
   ],
   "cell_type": "markdown",
   "metadata": {}
  },
  {
   "cell_type": "code",
   "execution_count": 5,
   "metadata": {},
   "outputs": [],
   "source": [
    "def hello():\n",
    "    print('Hello, world')"
   ]
  },
  {
   "cell_type": "code",
   "execution_count": 6,
   "metadata": {},
   "outputs": [
    {
     "output_type": "stream",
     "name": "stdout",
     "text": [
      "Hello, world\n"
     ]
    }
   ],
   "source": [
    "# 함수 호출\n",
    "hello()"
   ]
  },
  {
   "source": [
    "#### 1-2 함수의 실행순서\n",
    "1. 파이썬 스크립트 최초실행\n",
    "2. hello 함수 호출\n",
    "3. hello 함수 실행\n",
    "4. print 함수 실행 및 결과 출력\n",
    "5. hello 함수 종료\n",
    "6. 파이썬 스크립트 종료"
   ],
   "cell_type": "markdown",
   "metadata": {}
  },
  {
   "source": [
    "#### 빈함수 만들기"
   ],
   "cell_type": "markdown",
   "metadata": {}
  },
  {
   "cell_type": "code",
   "execution_count": 8,
   "metadata": {},
   "outputs": [],
   "source": [
    "# pass는 아무 일을 하지 않아도 함수의 틀을 유지할 필요가 있을때 사용\n",
    "def empty(): \n",
    "    pass"
   ]
  },
  {
   "source": [
    "### 덧셈 함수 만들기\n",
    "\n",
    "def 함수이름 (매개변수1, 매개변수2): <br>\n",
    "    코드"
   ],
   "cell_type": "markdown",
   "metadata": {}
  },
  {
   "cell_type": "code",
   "execution_count": 19,
   "metadata": {},
   "outputs": [
    {
     "output_type": "stream",
     "name": "stdout",
     "text": [
      "30\n이 함수는 덧셈 함수 입니다.\n"
     ]
    }
   ],
   "source": [
    "def add(a,b):\n",
    "    '''이 함수는 덧셈 함수 입니다.'''\n",
    "    return a+b\n",
    "\n",
    "x = add(10,20)\n",
    "print(x)\n",
    "print(add.__doc__) # 독스트링 출력"
   ]
  },
  {
   "source": [
    "### 함수의 결과를 반환하기"
   ],
   "cell_type": "markdown",
   "metadata": {}
  },
  {
   "cell_type": "code",
   "execution_count": 22,
   "metadata": {},
   "outputs": [],
   "source": [
    "# return으로 함수 중간에서 빠져나오기\n",
    "def not_ten(a):\n",
    "    if a==10:\n",
    "        return\n",
    "    print (a,'입니다',sep='')"
   ]
  },
  {
   "cell_type": "code",
   "execution_count": 25,
   "metadata": {},
   "outputs": [
    {
     "output_type": "stream",
     "name": "stdout",
     "text": [
      "5입니다\n"
     ]
    }
   ],
   "source": [
    "not_ten(5)\n",
    "\n",
    "# 10을 넣으면 return으로 함수 중간에서 바로 빠져 나오므로 함수의 print는 실행되지 않음\n",
    "not_ten(10)"
   ]
  },
  {
   "source": [
    "#### 심사문제 : 사칙연산 함수 만들기\n",
    "- 숫자 2개를 입력받아 덧셈, 뺄셈, 곱셈, 나눗셈의 결과가 출력되는 함수를 작성"
   ],
   "cell_type": "markdown",
   "metadata": {}
  },
  {
   "cell_type": "code",
   "execution_count": 27,
   "metadata": {},
   "outputs": [],
   "source": [
    "x, y = map(int,input('숫자를 입력하세여').split())"
   ]
  },
  {
   "cell_type": "code",
   "execution_count": 28,
   "metadata": {},
   "outputs": [],
   "source": [
    "def calc (x,y):\n",
    "    return x+y, x-y, x*y, x/y"
   ]
  },
  {
   "cell_type": "code",
   "execution_count": 29,
   "metadata": {},
   "outputs": [
    {
     "output_type": "execute_result",
     "data": {
      "text/plain": [
       "(33, 27, 90, 10.0)"
      ]
     },
     "metadata": {},
     "execution_count": 29
    }
   ],
   "source": [
    "calc(x,y)"
   ]
  },
  {
   "source": [
    "## 함수에서 위치 인수와 키워드 인수 사용하기"
   ],
   "cell_type": "markdown",
   "metadata": {}
  },
  {
   "source": [
    "### 위치 인수와 리스트 언패킹 사용하기"
   ],
   "cell_type": "markdown",
   "metadata": {}
  },
  {
   "cell_type": "code",
   "execution_count": 30,
   "metadata": {},
   "outputs": [
    {
     "output_type": "stream",
     "name": "stdout",
     "text": [
      "10 20 30\n"
     ]
    }
   ],
   "source": [
    "# 함수에 인수를 순서대로 넣는 방식을 위치 인수라고 함\n",
    "print(10,20,30)"
   ]
  },
  {
   "source": [
    "#### 1-1 위치 인수를 사용하는 함수를 만들고 호출하기"
   ],
   "cell_type": "markdown",
   "metadata": {}
  },
  {
   "cell_type": "code",
   "execution_count": 31,
   "metadata": {},
   "outputs": [],
   "source": [
    "def print_number(a,b,c):\n",
    "    print(a)\n",
    "    print(b)\n",
    "    print(c)"
   ]
  },
  {
   "cell_type": "code",
   "execution_count": 32,
   "metadata": {},
   "outputs": [
    {
     "output_type": "stream",
     "name": "stdout",
     "text": [
      "10\n20\n30\n"
     ]
    }
   ],
   "source": [
    "print_number(10,20,30)"
   ]
  },
  {
   "source": [
    "#### 1-2 언패킹 사용하기"
   ],
   "cell_type": "markdown",
   "metadata": {}
  },
  {
   "cell_type": "code",
   "execution_count": 36,
   "metadata": {},
   "outputs": [
    {
     "output_type": "stream",
     "name": "stdout",
     "text": [
      "10\n20\n30\n"
     ]
    }
   ],
   "source": [
    "# 인수를 순서대로 넣을때 리스트 또는 튜플 앞에 *(애스터 리스크)를 붙여 함수에 사용\n",
    "a = [10,20,30]\n",
    "\n",
    "# * 리스트의 포장을 푼다는 뜻\n",
    "# 단, 함수의 매개변수의 개수와 리스트의 요소 개수는 같아야함\n",
    "print_number(*a)"
   ]
  },
  {
   "source": [
    "#### 1-3 가변 인수 함수 만들기\n",
    "- 위치 인수와 리스트 언패킹은 인수의 개수가 정해지지 않은 가변 인수에 사용\n",
    "\n",
    "def 함수이름 (*매개변수):"
   ],
   "cell_type": "markdown",
   "metadata": {}
  },
  {
   "cell_type": "code",
   "execution_count": 37,
   "metadata": {},
   "outputs": [],
   "source": [
    "# args는 매개변수라는 뜻\n",
    "# *를 통해 넣은 숫자만큼 출력\n",
    "def print_numbers(*args):\n",
    "    for arg in args:\n",
    "        print(arg)"
   ]
  },
  {
   "cell_type": "code",
   "execution_count": 41,
   "metadata": {},
   "outputs": [
    {
     "output_type": "stream",
     "name": "stdout",
     "text": [
      "10\n==========\n10\n20\n30\n"
     ]
    }
   ],
   "source": [
    "print_numbers(10)\n",
    "print('='*10)\n",
    "print_numbers(10,20,30)"
   ]
  },
  {
   "cell_type": "code",
   "execution_count": 42,
   "metadata": {},
   "outputs": [],
   "source": [
    "# 고정인수와 가변 인수를 함께 사용하기\n",
    "\n",
    "# 가변 인수가 고정 인수보다 앞쪽에 오면 안됨\n",
    "def print_nb(a, *args):\n",
    "    print(a)\n",
    "    print(args)"
   ]
  },
  {
   "cell_type": "code",
   "execution_count": 46,
   "metadata": {},
   "outputs": [
    {
     "output_type": "stream",
     "name": "stdout",
     "text": [
      "10\n(20, 30)\n"
     ]
    }
   ],
   "source": [
    "print_nb(10,20,30)"
   ]
  },
  {
   "source": [
    "### 2. 키워드 인수 사용하기\n",
    "- 함수의 사용 방법을 익힐때 인수의 순서와 용도를 함께 외우자"
   ],
   "cell_type": "markdown",
   "metadata": {}
  },
  {
   "cell_type": "code",
   "execution_count": 51,
   "metadata": {},
   "outputs": [],
   "source": [
    "def personal_info(name, age, address):\n",
    "    print('이름 :', name)\n",
    "    print('나이 :', age)\n",
    "    print('주소 :', address)"
   ]
  },
  {
   "cell_type": "code",
   "execution_count": 50,
   "metadata": {},
   "outputs": [
    {
     "output_type": "stream",
     "name": "stdout",
     "text": [
      "이름 : 홍길동\n나이 : 40\n주소 : 부산\n"
     ]
    }
   ],
   "source": [
    "personal_info('홍길동',40,'부산')"
   ]
  },
  {
   "cell_type": "code",
   "execution_count": 52,
   "metadata": {},
   "outputs": [
    {
     "output_type": "stream",
     "name": "stdout",
     "text": [
      "이름 : 홍길동\n나이 : 40\n주소 : 부산\n"
     ]
    }
   ],
   "source": [
    "# 키워드 인수 적용\n",
    "# 순서를 지키지 않아도 됨\n",
    "personal_info(name='홍길동',age=40,address='부산')"
   ]
  },
  {
   "source": [
    "### 3. 키워드 인수와 딕셔너리 언패킹 사용하기\n",
    "- 딕셔너리를 사용해서 키워드 인수로 값을 넣는 딕셔너리 언패킹 사용\n",
    "- 딕셔너리 앞에 ** 붙여서 함수에 넣어줌"
   ],
   "cell_type": "markdown",
   "metadata": {}
  },
  {
   "cell_type": "code",
   "execution_count": 54,
   "metadata": {},
   "outputs": [
    {
     "output_type": "stream",
     "name": "stdout",
     "text": [
      "이름 : 고길동\n나이 : 30\n주소 : 서울\n"
     ]
    }
   ],
   "source": [
    "# 함수의 매개변수 이름과 딕셔너리의 키 이름이 같아야함\n",
    "# 개수도 같아야함\n",
    "x = {'name':'고길동', 'age':30, 'address':'서울'}\n",
    "\n",
    "# 딕셔너리 앞에 ** 붙여서 함수에 넣어줌\n",
    "personal_info(**x)"
   ]
  },
  {
   "cell_type": "code",
   "execution_count": 55,
   "metadata": {},
   "outputs": [
    {
     "output_type": "stream",
     "name": "stdout",
     "text": [
      "이름 : name\n나이 : age\n주소 : address\n"
     ]
    }
   ],
   "source": [
    "# **를 2번 사용하는 이유\n",
    "# * 1번 사용하는 키가 출력\n",
    "personal_info(*x)"
   ]
  },
  {
   "source": [
    "#### 3-1 키워드 인수를 사용하는 가변 인수 함수 만들기\n",
    "def 함수이름 (**매개변수):"
   ],
   "cell_type": "markdown",
   "metadata": {}
  },
  {
   "cell_type": "code",
   "execution_count": 62,
   "metadata": {},
   "outputs": [],
   "source": [
    "def personal_info(**kargs):\n",
    "    for kw, arg in kargs.items():\n",
    "        print(kw, ':', arg)\n",
    "\n",
    "# 특정 키가 있는지 확인\n",
    "def personal_name(**kargs):\n",
    "    if 'name' in kargs:\n",
    "        print('이름 :',kargs['name'])"
   ]
  },
  {
   "cell_type": "code",
   "execution_count": 61,
   "metadata": {},
   "outputs": [
    {
     "output_type": "stream",
     "name": "stdout",
     "text": [
      "이름 : TOP\nage : 15\n주소 : 미국\n"
     ]
    }
   ],
   "source": [
    "y = {'이름':'TOP', 'age':15, '주소':'미국'}\n",
    "\n",
    "personal_info(**y)"
   ]
  },
  {
   "cell_type": "code",
   "execution_count": 69,
   "metadata": {},
   "outputs": [
    {
     "output_type": "stream",
     "name": "stdout",
     "text": [
      "이름 : 마우스\n"
     ]
    }
   ],
   "source": [
    "personal_name(name='마우스')"
   ]
  },
  {
   "cell_type": "code",
   "execution_count": 70,
   "metadata": {},
   "outputs": [],
   "source": [
    "# 위치 인수와 키워드 인수를 함께 사용하기\n",
    "# 매개변수 순서에서 **kwargs 가장 뒤쪽\n",
    "def custom_print(*args, **kwargs):\n",
    "    print(*args, **kwargs)"
   ]
  },
  {
   "cell_type": "code",
   "execution_count": 77,
   "metadata": {},
   "outputs": [
    {
     "output_type": "stream",
     "name": "stdout",
     "text": [
      "1:2:3:4\n"
     ]
    }
   ],
   "source": [
    "custom_print(1,2,3,4,sep=':')"
   ]
  },
  {
   "cell_type": "code",
   "execution_count": 82,
   "metadata": {},
   "outputs": [
    {
     "output_type": "execute_result",
     "data": {
      "text/plain": [
       "70"
      ]
     },
     "metadata": {},
     "execution_count": 82
    }
   ],
   "source": [
    "# 연습문제 (가장 높은 점수가 출력되는 함수)\n",
    "x = [10,30,20,60,70]\n",
    "\n",
    "def get_max(*arg):\n",
    "    return max(arg)\n",
    "\n",
    "get_max(*x)"
   ]
  },
  {
   "cell_type": "code",
   "execution_count": 104,
   "metadata": {},
   "outputs": [
    {
     "output_type": "stream",
     "name": "stdout",
     "text": [
      "10 40\n25.0\n30.0\n"
     ]
    }
   ],
   "source": [
    "# 심사문제 : 가장 낮은 점수, 높은 점수와 평균 점수를 구하는 함수 만들기\n",
    "korean, english, math, science = map(int,input('국어, 영어, 수학, 과학 점수 입력: ').split())\n",
    "keyword = {'korean':korean,'english':english,'math':math,'science':science}\n",
    "\n",
    "# 최소, 최대 값 추출 함수\n",
    "def get_min_max_score(*args):\n",
    "    return min(args), max(args)\n",
    "\n",
    "# 해당 과목들 합의 평균을 구하는 함수\n",
    "def get_average(**kwargs):\n",
    "    s = 0 # 과목들의 합 초기화\n",
    "    number = 0 # 과목 개수 초기화\n",
    "\n",
    "    if 'korean' in kwargs:\n",
    "        s = kwargs['korean']\n",
    "        number += 1 \n",
    "    if 'english' in kwargs:\n",
    "        s += kwargs['english']\n",
    "        number += 1\n",
    "    if 'math' in kwargs:\n",
    "        s += kwargs['math']\n",
    "        number += 1\n",
    "    if 'science' in kwargs:\n",
    "        s += kwargs['science']    \n",
    "        number += 1\n",
    "    \n",
    "    return s/number\n",
    "\n",
    "\n",
    "min_score, max_score = get_min_max_score(korean, english, math, science)\n",
    "average_score = get_average(**keyword)\n",
    "print(min_score, max_score)\n",
    "print(average_score)\n",
    "\n",
    "average_score_es = get_average(english=english, science=science)\n",
    "print(average_score_es)"
   ]
  }
 ]
}