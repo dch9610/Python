{
 "metadata": {
  "language_info": {
   "codemirror_mode": {
    "name": "ipython",
    "version": 3
   },
   "file_extension": ".py",
   "mimetype": "text/x-python",
   "name": "python",
   "nbconvert_exporter": "python",
   "pygments_lexer": "ipython3",
   "version": "3.8.5-final"
  },
  "orig_nbformat": 2,
  "kernelspec": {
   "name": "python3",
   "display_name": "Python 3",
   "language": "python"
  }
 },
 "nbformat": 4,
 "nbformat_minor": 2,
 "cells": [
  {
   "source": [
    "# 34. 클래스 사용하기\n",
    "- 객체 : 특정한 개념이나 모양으로 존재하는 것 ex) 게임내 기사, 마법사, 궁수, 스크롤바, 체크박스 등..\n",
    "- 클래스 : 프로그래밍으로 객체를 만들때 사용\n",
    "- 속성 : 클래스 내의 데이터 ex) 게임내의 체력, 마나, 공격력 등\n",
    "- 메서드 : 클래스에 속한 행위 ex) 게임내의 베기, 찌르기 등"
   ],
   "cell_type": "markdown",
   "metadata": {}
  },
  {
   "source": [
    "## 34.1 클래스와 메서드 만들기\n",
    "- class에 클래스 이름을 지정하고 :붙임\n",
    "    - def로 메서드를 작성 => 메서드는 클래스 안에 들어있는 함수"
   ],
   "cell_type": "markdown",
   "metadata": {}
  },
  {
   "cell_type": "code",
   "execution_count": 2,
   "metadata": {},
   "outputs": [],
   "source": [
    "# 메서드의 첫번째 매개변수는 반드시 self를 지정\n",
    "\n",
    "class Person:\n",
    "    def greeting(self):\n",
    "        print(\"Hello\")"
   ]
  },
  {
   "cell_type": "code",
   "execution_count": 3,
   "metadata": {},
   "outputs": [],
   "source": [
    "# 클래스는 특정 개념을 표현만 할뿐 사용하려면 인스턴스를 생성\n",
    "# 인스턴스 = 클래스()\n",
    "\n",
    "James = Person()"
   ]
  },
  {
   "source": [
    "### 34.1.1 메서드 호출하기\n",
    "- 메서드는 클래스가 아니라 인스턴스를 통해 호출\n",
    "- 인스턴스.메서드()"
   ],
   "cell_type": "markdown",
   "metadata": {}
  },
  {
   "cell_type": "code",
   "execution_count": 6,
   "metadata": {},
   "outputs": [
    {
     "output_type": "stream",
     "name": "stdout",
     "text": [
      "Hello\n"
     ]
    }
   ],
   "source": [
    "# 인스턴스 메서드 : 인스턴스를 통해 호출하는 메서드\n",
    "James.greeting()"
   ]
  },
  {
   "source": [
    "### 34.1.2 파이썬에서 흔히 볼 수 있는 클래스\n",
    "- int, list, dict 등\n",
    "- 즉, 파이썬에서는 자료형도 클래스\n",
    "    - type을 사용하면 객체(인스턴스)가 어떤 클래스인지 확인"
   ],
   "cell_type": "markdown",
   "metadata": {}
  },
  {
   "source": [
    "### 34.1.3 인스턴스와 객체의 차이점\n",
    "- 인스턴스와 객체는 같은 것을 뜻함\n",
    "- 객체 : 보통 객체만 지칭\n",
    "- 인스턴스 : 클래스와 연관 지어서 말할 때"
   ],
   "cell_type": "markdown",
   "metadata": {}
  },
  {
   "source": [
    "#### 빈 클래스 만들기\n",
    "- 내용이 없는 빈 클래스를 만들떄는 코드 부분에 pass를 넣어줌"
   ],
   "cell_type": "markdown",
   "metadata": {}
  },
  {
   "cell_type": "code",
   "execution_count": null,
   "metadata": {},
   "outputs": [],
   "source": [
    "class Book:\n",
    "    pass"
   ]
  },
  {
   "source": [
    "#### 메서드 안에서 메서드 호출하기\n",
    "- self.메서드() 형식으로 호출\n",
    "- self 없이 메서드 이름만 사용하면 클래스 바깥쪽에 있는 함수를 호출한다는 뜻이 되므로 주의"
   ],
   "cell_type": "markdown",
   "metadata": {}
  },
  {
   "cell_type": "code",
   "execution_count": 8,
   "metadata": {},
   "outputs": [
    {
     "output_type": "stream",
     "name": "stdout",
     "text": [
      "hello\n"
     ]
    }
   ],
   "source": [
    "class Person:\n",
    "    def greeting(self):\n",
    "        print(\"hello\")\n",
    "    \n",
    "    def hello(self):\n",
    "        self.greeting() # self.메서드() 형식으로 클래스 안의 메서드를 호출\n",
    "\n",
    "james = Person()\n",
    "james.hello()"
   ]
  },
  {
   "source": [
    "#### 특정 클래스의 인스턴스인지 확인하기\n",
    "- isinstance 함수 사용, 맞으면 True 아니면 False 반환\n",
    "    - isinstance(인스턴스, 클래스)"
   ],
   "cell_type": "markdown",
   "metadata": {}
  },
  {
   "cell_type": "code",
   "execution_count": 10,
   "metadata": {},
   "outputs": [
    {
     "output_type": "execute_result",
     "data": {
      "text/plain": [
       "True"
      ]
     },
     "metadata": {},
     "execution_count": 10
    }
   ],
   "source": [
    "class Person:\n",
    "    pass\n",
    "\n",
    "james = Person()\n",
    "isinstance(james,Person)"
   ]
  },
  {
   "cell_type": "code",
   "execution_count": 11,
   "metadata": {},
   "outputs": [],
   "source": [
    "# isinstance는 주로 객체의 자료형을 판단할 떄 사용\n",
    "def fac(n):\n",
    "    if not isinstance(n, int): # n이 int가 아닌경우\n",
    "        return None\n",
    "    if n == 1:\n",
    "        return 1"
   ]
  },
  {
   "source": [
    "## 34.2 속성 사용하기\n",
    "- 속성을 만들때는 __init__ 메서드 안에서 self.속성에 값을 할당\n",
    "<pre>\n",
    "<code>\n",
    "class 클래스이름:\n",
    "    def __init__(self):\n",
    "        self.속성 = 값\n",
    "</code>\n",
    "</pre>\n",
    "\n",
    "- __ 가 붙은 메서드는ㅁ 파이썬이 자동으로 호출해주는 메서드 (스페셜 메서드, 매직 메서드)"
   ],
   "cell_type": "markdown",
   "metadata": {}
  },
  {
   "cell_type": "code",
   "execution_count": 16,
   "metadata": {},
   "outputs": [
    {
     "output_type": "stream",
     "name": "stdout",
     "text": [
      "Hi\n"
     ]
    }
   ],
   "source": [
    "# __init__ 메서드 : james = Person()처럼 클래스에 ()를 붙여서 인스턴스를 만들때 호출되는 특별한 메서드\n",
    "# 속성은 __init__ 메서드에서 만든다는 점과 self에 .을 붙인뒤 값을 할당한다는 점이 중요\n",
    "\n",
    "class Person:\n",
    "    def __init__(self):\n",
    "        print('Hi')\n",
    "        self.hello = '안녕하세요'\n",
    "    \n",
    "    def greeting(self):\n",
    "        print(self.hello)\n",
    "\n",
    "james = Person()\n",
    "# james.greeting()"
   ]
  },
  {
   "source": [
    "### 34.2.1 self의 의미\n",
    "- self는 인스턴스 자기 자신을 의미"
   ],
   "cell_type": "markdown",
   "metadata": {}
  },
  {
   "cell_type": "code",
   "execution_count": null,
   "metadata": {},
   "outputs": [],
   "source": [
    "class Person:\n",
    "    def __init__(self): # Person 클래스가 호출되면 바로 사용되는 메서드\n",
    "        self.hello = '안녕하세요'\n",
    "    \n",
    "    def greeting(self): # 인스턴스가 자동으로 매개변수 self에 들어옴\n",
    "        print(self.hello)\n",
    "\n",
    "james = Person()\n",
    "james.greeting()"
   ]
  },
  {
   "source": [
    "### 34.2.2 인스턴스를 만들때 값 받기\n",
    "<pre>\n",
    "<code>\n",
    "class 클래스이름:\n",
    "    def __init__(self, 매개변수1, 매개변수2):\n",
    "        self.속성1 = 매개변수1\n",
    "        self.속성2 = 매개변수2\n",
    "</code>\n",
    "</pre>"
   ],
   "cell_type": "markdown",
   "metadata": {}
  },
  {
   "cell_type": "code",
   "execution_count": 21,
   "metadata": {},
   "outputs": [
    {
     "output_type": "stream",
     "name": "stdout",
     "text": [
      "안녕하세요 저는 마리아\n이름: 마리아\n나이: 20\n주소: 서울\n"
     ]
    }
   ],
   "source": [
    "class Person:\n",
    "    def __init__(self, name, age, address):\n",
    "        self.hello = '안녕하세요'\n",
    "        self.name = name\n",
    "        self.age = age\n",
    "        self.address = address\n",
    "    \n",
    "    def greeting(self):\n",
    "        print(f'{self.hello} 저는 {self.name}')\n",
    "    \n",
    "maria = Person('마리아', 20, '서울') # 인스턴스 생성을 통해 클래스 Person의 self는 maria가 됨\n",
    "maria.greeting()\n",
    "\n",
    "# 클래스 밖에서 접근할때는 인스턴스.속성 형식으로 접근\n",
    "print('이름:',maria.name)\n",
    "print('나이:',maria.age)\n",
    "print('주소:',maria.address)"
   ]
  },
  {
   "source": [
    "#### 클래스의 위치인수, 키워드 인수"
   ],
   "cell_type": "markdown",
   "metadata": {}
  },
  {
   "cell_type": "code",
   "execution_count": 25,
   "metadata": {},
   "outputs": [
    {
     "output_type": "stream",
     "name": "stdout",
     "text": [
      "이름: 마리아\n나이: 20\n주소: 부산\n"
     ]
    }
   ],
   "source": [
    "# 위치인수와 리스트 언패킹을 사용 *args\n",
    "class Person:\n",
    "    def __init__(self, *args):\n",
    "        self.name = args[0]\n",
    "        self.age = args[1]\n",
    "        self.address = args[2]\n",
    "    \n",
    "maria=Person(*['마리아',20,'부산'])\n",
    "\n",
    "# 클래스 밖에서 접근할때는 인스턴스.속성 형식으로 접근\n",
    "print('이름:',maria.name)\n",
    "print('나이:',maria.age)\n",
    "print('주소:',maria.address)"
   ]
  },
  {
   "cell_type": "code",
   "execution_count": 30,
   "metadata": {},
   "outputs": [
    {
     "output_type": "stream",
     "name": "stdout",
     "text": [
      "이름: 아리마\n나이: 30\n주소: 대구\n"
     ]
    }
   ],
   "source": [
    "# 키워드 인수와 딕셔너리 언패킹 사용 **kwargs\n",
    "class Person:\n",
    "    def __init__(self, **kwargs):\n",
    "        self.name = kwargs['name']\n",
    "        self.age = kwargs['age']\n",
    "        self.address = kwargs['address']\n",
    "    \n",
    "maria=Person(name='마리아', age=20, address='대구')\n",
    "maria2=Person(**{'name':'아리마','age':30, 'address':'대전'})\n",
    "\n",
    "# 클래스 밖에서 접근할때는 인스턴스.속성 형식으로 접근\n",
    "print('이름:',maria2.name)\n",
    "print('나이:',maria2.age)\n",
    "print('주소:',maria.address)"
   ]
  }
 ]
}