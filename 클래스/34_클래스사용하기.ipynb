{
 "metadata": {
  "language_info": {
   "codemirror_mode": {
    "name": "ipython",
    "version": 3
   },
   "file_extension": ".py",
   "mimetype": "text/x-python",
   "name": "python",
   "nbconvert_exporter": "python",
   "pygments_lexer": "ipython3",
   "version": "3.8.5-final"
  },
  "orig_nbformat": 2,
  "kernelspec": {
   "name": "python3",
   "display_name": "Python 3",
   "language": "python"
  }
 },
 "nbformat": 4,
 "nbformat_minor": 2,
 "cells": [
  {
   "source": [
    "# 34. 클래스 사용하기\n",
    "- 객체 : 특정한 개념이나 모양으로 존재하는 것 ex) 게임내 기사, 마법사, 궁수, 스크롤바, 체크박스 등..\n",
    "- 클래스 : 프로그래밍으로 객체를 만들때 사용\n",
    "- 속성 : 클래스 내의 데이터 ex) 게임내의 체력, 마나, 공격력 등\n",
    "- 메서드 : 클래스에 속한 행위 ex) 게임내의 베기, 찌르기 등"
   ],
   "cell_type": "markdown",
   "metadata": {}
  },
  {
   "source": [
    "## 34.1 클래스와 메서드 만들기\n",
    "- class에 클래스 이름을 지정하고 :붙임\n",
    "    - def로 메서드를 작성 => 메서드는 클래스 안에 들어있는 함수"
   ],
   "cell_type": "markdown",
   "metadata": {}
  },
  {
   "cell_type": "code",
   "execution_count": 2,
   "metadata": {},
   "outputs": [],
   "source": [
    "# 메서드의 첫번째 매개변수는 반드시 self를 지정\n",
    "\n",
    "class Person:\n",
    "    def greeting(self):\n",
    "        print(\"Hello\")"
   ]
  },
  {
   "cell_type": "code",
   "execution_count": 3,
   "metadata": {},
   "outputs": [],
   "source": [
    "# 클래스는 특정 개념을 표현만 할뿐 사용하려면 인스턴스를 생성\n",
    "# 인스턴스 = 클래스()\n",
    "\n",
    "James = Person()"
   ]
  },
  {
   "source": [
    "### 34.1.1 메서드 호출하기\n",
    "- 메서드는 클래스가 아니라 인스턴스를 통해 호출\n",
    "- 인스턴스.메서드()"
   ],
   "cell_type": "markdown",
   "metadata": {}
  },
  {
   "cell_type": "code",
   "execution_count": 6,
   "metadata": {},
   "outputs": [
    {
     "output_type": "stream",
     "name": "stdout",
     "text": [
      "Hello\n"
     ]
    }
   ],
   "source": [
    "# 인스턴스 메서드 : 인스턴스를 통해 호출하는 메서드\n",
    "James.greeting()"
   ]
  },
  {
   "source": [
    "### 34.1.2 파이썬에서 흔히 볼 수 있는 클래스\n",
    "- int, list, dict 등\n",
    "- 즉, 파이썬에서는 자료형도 클래스\n",
    "    - type을 사용하면 객체(인스턴스)가 어떤 클래스인지 확인"
   ],
   "cell_type": "markdown",
   "metadata": {}
  },
  {
   "source": [
    "### 34.1.3 인스턴스와 객체의 차이점\n",
    "- 인스턴스와 객체는 같은 것을 뜻함\n",
    "- 객체 : 보통 객체만 지칭\n",
    "- 인스턴스 : 클래스와 연관 지어서 말할 때"
   ],
   "cell_type": "markdown",
   "metadata": {}
  },
  {
   "source": [
    "#### 빈 클래스 만들기\n",
    "- 내용이 없는 빈 클래스를 만들떄는 코드 부분에 pass를 넣어줌"
   ],
   "cell_type": "markdown",
   "metadata": {}
  },
  {
   "cell_type": "code",
   "execution_count": null,
   "metadata": {},
   "outputs": [],
   "source": [
    "class Book:\n",
    "    pass"
   ]
  },
  {
   "source": [
    "#### 메서드 안에서 메서드 호출하기\n",
    "- self.메서드() 형식으로 호출\n",
    "- self 없이 메서드 이름만 사용하면 클래스 바깥쪽에 있는 함수를 호출한다는 뜻이 되므로 주의"
   ],
   "cell_type": "markdown",
   "metadata": {}
  },
  {
   "cell_type": "code",
   "execution_count": 8,
   "metadata": {},
   "outputs": [
    {
     "output_type": "stream",
     "name": "stdout",
     "text": [
      "hello\n"
     ]
    }
   ],
   "source": [
    "class Person:\n",
    "    def greeting(self):\n",
    "        print(\"hello\")\n",
    "    \n",
    "    def hello(self):\n",
    "        self.greeting() # self.메서드() 형식으로 클래스 안의 메서드를 호출\n",
    "\n",
    "james = Person()\n",
    "james.hello()"
   ]
  },
  {
   "source": [
    "#### 특정 클래스의 인스턴스인지 확인하기\n",
    "- isinstance 함수 사용, 맞으면 True 아니면 False 반환\n",
    "    - isinstance(인스턴스, 클래스)"
   ],
   "cell_type": "markdown",
   "metadata": {}
  },
  {
   "cell_type": "code",
   "execution_count": 10,
   "metadata": {},
   "outputs": [
    {
     "output_type": "execute_result",
     "data": {
      "text/plain": [
       "True"
      ]
     },
     "metadata": {},
     "execution_count": 10
    }
   ],
   "source": [
    "class Person:\n",
    "    pass\n",
    "\n",
    "james = Person()\n",
    "isinstance(james,Person)"
   ]
  },
  {
   "cell_type": "code",
   "execution_count": 11,
   "metadata": {},
   "outputs": [],
   "source": [
    "# isinstance는 주로 객체의 자료형을 판단할 떄 사용\n",
    "def fac(n):\n",
    "    if not isinstance(n, int): # n이 int가 아닌경우\n",
    "        return None\n",
    "    if n == 1:\n",
    "        return 1"
   ]
  },
  {
   "source": [
    "## 34.2 속성 사용하기\n",
    "- 속성을 만들때는 __init__ 메서드 안에서 self.속성에 값을 할당\n",
    "<pre>\n",
    "<code>\n",
    "class 클래스이름:\n",
    "    def __init__(self):\n",
    "        self.속성 = 값\n",
    "</code>\n",
    "</pre>\n",
    "\n",
    "- __ 가 붙은 메서드는ㅁ 파이썬이 자동으로 호출해주는 메서드 (스페셜 메서드, 매직 메서드)"
   ],
   "cell_type": "markdown",
   "metadata": {}
  },
  {
   "cell_type": "code",
   "execution_count": 16,
   "metadata": {},
   "outputs": [
    {
     "output_type": "stream",
     "name": "stdout",
     "text": [
      "Hi\n"
     ]
    }
   ],
   "source": [
    "# __init__ 메서드 : james = Person()처럼 클래스에 ()를 붙여서 인스턴스를 만들때 호출되는 특별한 메서드\n",
    "# 속성은 __init__ 메서드에서 만든다는 점과 self에 .을 붙인뒤 값을 할당한다는 점이 중요\n",
    "\n",
    "class Person:\n",
    "    def __init__(self):\n",
    "        print('Hi')\n",
    "        self.hello = '안녕하세요'\n",
    "    \n",
    "    def greeting(self):\n",
    "        print(self.hello)\n",
    "\n",
    "james = Person()\n",
    "# james.greeting()"
   ]
  },
  {
   "source": [
    "### 34.2.1 self의 의미\n",
    "- self는 인스턴스 자기 자신을 의미"
   ],
   "cell_type": "markdown",
   "metadata": {}
  },
  {
   "cell_type": "code",
   "execution_count": null,
   "metadata": {},
   "outputs": [],
   "source": [
    "class Person:\n",
    "    def __init__(self): # Person 클래스가 호출되면 바로 사용되는 메서드\n",
    "        self.hello = '안녕하세요'\n",
    "    \n",
    "    def greeting(self): # 인스턴스가 자동으로 매개변수 self에 들어옴\n",
    "        print(self.hello)\n",
    "\n",
    "james = Person()\n",
    "james.greeting()"
   ]
  },
  {
   "source": [
    "### 34.2.2 인스턴스를 만들때 값 받기\n",
    "<pre>\n",
    "<code>\n",
    "class 클래스이름:\n",
    "    def __init__(self, 매개변수1, 매개변수2):\n",
    "        self.속성1 = 매개변수1\n",
    "        self.속성2 = 매개변수2\n",
    "</code>\n",
    "</pre>"
   ],
   "cell_type": "markdown",
   "metadata": {}
  },
  {
   "cell_type": "code",
   "execution_count": 21,
   "metadata": {},
   "outputs": [
    {
     "output_type": "stream",
     "name": "stdout",
     "text": [
      "안녕하세요 저는 마리아\n이름: 마리아\n나이: 20\n주소: 서울\n"
     ]
    }
   ],
   "source": [
    "class Person:\n",
    "    def __init__(self, name, age, address):\n",
    "        self.hello = '안녕하세요'\n",
    "        self.name = name\n",
    "        self.age = age\n",
    "        self.address = address\n",
    "    \n",
    "    def greeting(self):\n",
    "        print(f'{self.hello} 저는 {self.name}')\n",
    "    \n",
    "maria = Person('마리아', 20, '서울') # 인스턴스 생성을 통해 클래스 Person의 self는 maria가 됨\n",
    "maria.greeting()\n",
    "\n",
    "# 클래스 밖에서 접근할때는 인스턴스.속성 형식으로 접근\n",
    "print('이름:',maria.name)\n",
    "print('나이:',maria.age)\n",
    "print('주소:',maria.address)"
   ]
  },
  {
   "source": [
    "#### 클래스의 위치인수, 키워드 인수"
   ],
   "cell_type": "markdown",
   "metadata": {}
  },
  {
   "cell_type": "code",
   "execution_count": 25,
   "metadata": {},
   "outputs": [
    {
     "output_type": "stream",
     "name": "stdout",
     "text": [
      "이름: 마리아\n나이: 20\n주소: 부산\n"
     ]
    }
   ],
   "source": [
    "# 위치인수와 리스트 언패킹을 사용 *args\n",
    "class Person:\n",
    "    def __init__(self, *args):\n",
    "        self.name = args[0]\n",
    "        self.age = args[1]\n",
    "        self.address = args[2]\n",
    "    \n",
    "maria=Person(*['마리아',20,'부산'])\n",
    "\n",
    "# 클래스 밖에서 접근할때는 인스턴스.속성 형식으로 접근\n",
    "print('이름:',maria.name)\n",
    "print('나이:',maria.age)\n",
    "print('주소:',maria.address)"
   ]
  },
  {
   "cell_type": "code",
   "execution_count": 30,
   "metadata": {},
   "outputs": [
    {
     "output_type": "stream",
     "name": "stdout",
     "text": [
      "이름: 아리마\n나이: 30\n주소: 대구\n"
     ]
    }
   ],
   "source": [
    "# 키워드 인수와 딕셔너리 언패킹 사용 **kwargs\n",
    "class Person:\n",
    "    def __init__(self, **kwargs):\n",
    "        self.name = kwargs['name']\n",
    "        self.age = kwargs['age']\n",
    "        self.address = kwargs['address']\n",
    "    \n",
    "maria=Person(name='마리아', age=20, address='대구')\n",
    "maria2=Person(**{'name':'아리마','age':30, 'address':'대전'})\n",
    "\n",
    "# 클래스 밖에서 접근할때는 인스턴스.속성 형식으로 접근\n",
    "print('이름:',maria2.name)\n",
    "print('나이:',maria2.age)\n",
    "print('주소:',maria.address)"
   ]
  },
  {
   "source": [
    "### 인스턴스를 생성한 뒤에 속성 추가하기, 특정 속성만 허용하기  "
   ],
   "cell_type": "markdown",
   "metadata": {}
  },
  {
   "cell_type": "code",
   "execution_count": 1,
   "metadata": {},
   "outputs": [
    {
     "output_type": "execute_result",
     "data": {
      "text/plain": [
       "'마리아'"
      ]
     },
     "metadata": {},
     "execution_count": 1
    }
   ],
   "source": [
    "class Person:\n",
    "    pass\n",
    "\n",
    "maria = Person()     # 인스턴스 생성\n",
    "maria.name = '마리아'  # 인스턴스를 만든 뒤 속성 추가\n",
    "maria.name"
   ]
  },
  {
   "cell_type": "code",
   "execution_count": 2,
   "metadata": {},
   "outputs": [
    {
     "output_type": "error",
     "ename": "AttributeError",
     "evalue": "'Person' object has no attribute 'name'",
     "traceback": [
      "\u001b[0;31m---------------------------------------------------------------------------\u001b[0m",
      "\u001b[0;31mAttributeError\u001b[0m                            Traceback (most recent call last)",
      "\u001b[0;32m<ipython-input-2-62136b0f97a3>\u001b[0m in \u001b[0;36m<module>\u001b[0;34m\u001b[0m\n\u001b[1;32m      1\u001b[0m \u001b[0;31m# 추가한 속성은 해당 인스턴스에만 생성됨\u001b[0m\u001b[0;34m\u001b[0m\u001b[0;34m\u001b[0m\u001b[0;34m\u001b[0m\u001b[0m\n\u001b[1;32m      2\u001b[0m \u001b[0mjames\u001b[0m \u001b[0;34m=\u001b[0m \u001b[0mPerson\u001b[0m\u001b[0;34m(\u001b[0m\u001b[0;34m)\u001b[0m\u001b[0;34m\u001b[0m\u001b[0;34m\u001b[0m\u001b[0m\n\u001b[0;32m----> 3\u001b[0;31m \u001b[0mjames\u001b[0m\u001b[0;34m.\u001b[0m\u001b[0mname\u001b[0m\u001b[0;34m\u001b[0m\u001b[0;34m\u001b[0m\u001b[0m\n\u001b[0m",
      "\u001b[0;31mAttributeError\u001b[0m: 'Person' object has no attribute 'name'"
     ]
    }
   ],
   "source": [
    "# 추가한 속성은 해당 인스턴스에만 생성됨\n",
    "james = Person()\n",
    "james.name          # maria 인스턴스에만 name 속성을 추가했으므로 james 인스턴스에는 name이 없음"
   ]
  },
  {
   "cell_type": "code",
   "execution_count": 5,
   "metadata": {},
   "outputs": [
    {
     "output_type": "execute_result",
     "data": {
      "text/plain": [
       "'안녕하세요'"
      ]
     },
     "metadata": {},
     "execution_count": 5
    }
   ],
   "source": [
    "# 인스턴스는 생성한 뒤에 속성을 추가할 수 있으므로 __init__ 메서드가 아닌 다른 메서드에서도 속성을 추가할 수 있음\n",
    "# 단 이때는 메서드를 호출해야 속성이 생성됨\n",
    "class Person:\n",
    "    def greeting(self):\n",
    "        self.hello = '안녕하세요'\n",
    "\n",
    "maria = Person()\n",
    "maria.greeting() # greeting 메서드를 호출해야함\n",
    "maria.hello"
   ]
  },
  {
   "source": [
    "#### 인스턴스는 자유롭게 속성을 추가할 수 있지만 특정 속성만 허용하고 다른 속성은 제한하기\n",
    "- __slots__에 허용할 속성 이름 추가"
   ],
   "cell_type": "markdown",
   "metadata": {}
  },
  {
   "cell_type": "code",
   "execution_count": 7,
   "metadata": {},
   "outputs": [],
   "source": [
    "class Person:\n",
    "    __slots__ = ['name','age'] # name, age만 허용\n",
    "\n",
    "\n",
    "maria = Person()\n",
    "maria.name = '마리아'\n",
    "maria.age = 20\n",
    "# maria.address = '서울 부산' # 허용되지 않은 속성은 추가할때 에러가 발생\n"
   ]
  },
  {
   "source": [
    "## 34.3 비공개 속성 사용하기\n",
    "- 클래스 바깥에서는 접근할 수 없고 클래스 안에서만 사용할 수 있는 비공개 속성 사용\n",
    "- 비공개 속성은 __속성과 같이 이름이 __로 시작 (양 옆에 오지는 않음) \n",
    "\n",
    "<pre>\n",
    "<code>\n",
    "class 클래스이름:\n",
    "    def __init__(self,매개변수)\n",
    "        self.__속성 = 값\n",
    "</code>\n",
    "</pre>"
   ],
   "cell_type": "markdown",
   "metadata": {}
  },
  {
   "cell_type": "code",
   "execution_count": 13,
   "metadata": {},
   "outputs": [
    {
     "output_type": "error",
     "ename": "AttributeError",
     "evalue": "'Person' object has no attribute '__wallet'",
     "traceback": [
      "\u001b[0;31m---------------------------------------------------------------------------\u001b[0m",
      "\u001b[0;31mAttributeError\u001b[0m                            Traceback (most recent call last)",
      "\u001b[0;32m<ipython-input-13-cb1098f421f8>\u001b[0m in \u001b[0;36m<module>\u001b[0;34m\u001b[0m\n\u001b[1;32m      7\u001b[0m \u001b[0;34m\u001b[0m\u001b[0m\n\u001b[1;32m      8\u001b[0m \u001b[0mmaria\u001b[0m \u001b[0;34m=\u001b[0m \u001b[0mPerson\u001b[0m\u001b[0;34m(\u001b[0m\u001b[0;34m'마리아'\u001b[0m\u001b[0;34m,\u001b[0m \u001b[0;36m20\u001b[0m\u001b[0;34m,\u001b[0m \u001b[0;34m'서울시 서초구'\u001b[0m\u001b[0;34m,\u001b[0m \u001b[0;36m10000\u001b[0m\u001b[0;34m)\u001b[0m\u001b[0;34m\u001b[0m\u001b[0;34m\u001b[0m\u001b[0m\n\u001b[0;32m----> 9\u001b[0;31m \u001b[0mmaria\u001b[0m\u001b[0;34m.\u001b[0m\u001b[0m__wallet\u001b[0m \u001b[0;34m-=\u001b[0m \u001b[0;36m10000\u001b[0m             \u001b[0;31m# 클래스 바깥에서 비공개 속성에 접근하면 에러가 발생\u001b[0m\u001b[0;34m\u001b[0m\u001b[0;34m\u001b[0m\u001b[0m\n\u001b[0m",
      "\u001b[0;31mAttributeError\u001b[0m: 'Person' object has no attribute '__wallet'"
     ]
    }
   ],
   "source": [
    "# 비공개 속성은 클래스 안의 메서드에서만 접근\n",
    "class Person:\n",
    "    def __init__(self, name, age, address, wallet):\n",
    "        self.name = name\n",
    "        self.age = age\n",
    "        self.address = address \n",
    "        self.__wallet = wallet      # 변수 앞에 __를 붙여서 비공개 속성으로 만듬, # 비공개 속성은 클래스 안의 메서드에서만 접근\n",
    "\n",
    "maria = Person('마리아', 20, '서울시 서초구', 10000)\n",
    "maria.__wallet -= 10000             # 클래스 바깥에서 비공개 속성에 접근하면 에러가 발생"
   ]
  },
  {
   "cell_type": "code",
   "execution_count": 14,
   "metadata": {},
   "outputs": [
    {
     "output_type": "stream",
     "name": "stdout",
     "text": [
      "이제 7000원 남았네요\n"
     ]
    }
   ],
   "source": [
    "# 클래스안 새로운 메서드 생성하여 호출\n",
    "class Person:\n",
    "    def __init__(self, name, age, address, wallet):\n",
    "        self.name = name\n",
    "        self.age = age\n",
    "        self.address = address \n",
    "        self.__wallet = wallet      # 변수 앞에 __를 붙여서 비공개 속성으로 만듬\n",
    "\n",
    "    def pay(self, amount):\n",
    "        self.__wallet -= amount     # 비공개 속성은 클래스 안의 메서드에서만 접근할수 있음\n",
    "        print('이제 {0}원 남았네요'.format(self.__wallet))\n",
    "\n",
    "maria = Person('마리아', 20, '서울시 서초구', 10000)\n",
    "maria.pay(3000)             # 클래스 바깥에서 비공개 속성에 접근하면 에러가 발생"
   ]
  },
  {
   "source": [
    "### 비공개 메서드 사용하기\n",
    "- 속성뿐만 아니라 메서드도 이름이 __로 시작하면 클래스 안에서만 호출할 수 있는 비공개 메서드"
   ],
   "cell_type": "markdown",
   "metadata": {}
  },
  {
   "cell_type": "code",
   "execution_count": 16,
   "metadata": {},
   "outputs": [
    {
     "output_type": "stream",
     "name": "stdout",
     "text": [
      "Hello\n"
     ]
    }
   ],
   "source": [
    "class Person:\n",
    "    def __greeting(self):\n",
    "        print('Hello')\n",
    "\n",
    "    def hello(self):\n",
    "        self.__greeting() # 클래스 안에서는 비공개 메서드를 호출할 수 있음\n",
    "\n",
    "james = Person()\n",
    "# james.__greeting() # 클래스 바깥에서는 비공개 메서드를 호출할 수 없음\n",
    "james.hello()"
   ]
  },
  {
   "source": [
    "## 34.5 연습문제 : 게임 캐릭터 만들기\n",
    "- 클래스를 작성하여 게임 캐릭터의 능력치와 '베기'가 출력되게 만드세요."
   ],
   "cell_type": "markdown",
   "metadata": {}
  },
  {
   "cell_type": "code",
   "execution_count": 20,
   "metadata": {},
   "outputs": [
    {
     "output_type": "stream",
     "name": "stdout",
     "text": [
      "542.4 210.3 38\n베기\n"
     ]
    }
   ],
   "source": [
    "class Knight:\n",
    "    def __init__(self, health, mana, armor):\n",
    "        self.health = health\n",
    "        self.mana = mana\n",
    "        self.armor = armor\n",
    "    \n",
    "    def slash(self):\n",
    "        print('베기')\n",
    "\n",
    "x = Knight(health = 542.4, mana=210.3, armor=38) # 인스턴스 생성\n",
    "print(x.health, x.mana, x.armor)\n",
    "x.slash() # 인스턴스로 메서드 출력"
   ]
  },
  {
   "source": [
    "## 34.6 심사문제 : 게임 캐릭터 클래스 만들기\n",
    "- 표준 입력으로 게임 캐릭터 능력치(체력, 마나, AP)가 입력됩니다.\n",
    "- 애니 클래스를 작성하여 티버 스킬의 피해량이 출력되게 만드세요. 티버의 피해량은 AP*0.65 +400입니다."
   ],
   "cell_type": "markdown",
   "metadata": {}
  },
  {
   "cell_type": "code",
   "execution_count": 10,
   "metadata": {},
   "outputs": [
    {
     "output_type": "stream",
     "name": "stdout",
     "text": [
      "티버: 피해량 819.25\n"
     ]
    }
   ],
   "source": [
    "class Annie():\n",
    "    def __init__(self, health, mana, ability_power):\n",
    "        self.health = health\n",
    "        self.mana   = mana\n",
    "        self.ability_power = ability_power\n",
    "    \n",
    "    def tibbers(self):\n",
    "        v = ability_power *0.65+400\n",
    "        print(f'티버: 피해량 {v}')\n",
    "\n",
    "health, mana, ability_power = map(float, input().split())\n",
    "\n",
    "x = Annie(health=health, mana=mana, ability_power=ability_power)\n",
    "x.tibbers()\n"
   ]
  }
 ]
}