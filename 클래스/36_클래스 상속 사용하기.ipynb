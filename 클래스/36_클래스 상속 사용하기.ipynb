{
 "metadata": {
  "language_info": {
   "codemirror_mode": {
    "name": "ipython",
    "version": 3
   },
   "file_extension": ".py",
   "mimetype": "text/x-python",
   "name": "python",
   "nbconvert_exporter": "python",
   "pygments_lexer": "ipython3",
   "version": "3.7.6-final"
  },
  "orig_nbformat": 2,
  "kernelspec": {
   "name": "python3",
   "display_name": "Python 3",
   "language": "python"
  }
 },
 "nbformat": 4,
 "nbformat_minor": 2,
 "cells": [
  {
   "source": [
    "## 클래스 상속 사용하기\n",
    "- 상속 : 무언가를 물려받는다는 뜻 \n",
    "    * 물려받은 기능을 유지한 채로 다른 기능을 추가할 때 사용하는 기능\n",
    "\n",
    "     \n",
    "    * 기반 클래스 : 부모클래스, 슈퍼클래스\n",
    "    * 파생 클래스 : 자식클래스, 서브 클래스\n",
    "    "
   ],
   "cell_type": "markdown",
   "metadata": {}
  },
  {
   "source": [
    "## 36.1 사람 클래스로 학생 클래스 만들기\n",
    "<pre>\n",
    "<code>\n",
    "class 기반 클래스 이름:\n",
    "    코드\n",
    "\n",
    "class 파생클래스이름 (기반클래스이름):\n",
    "    코드\n",
    "</code>\n",
    "</pre>"
   ],
   "cell_type": "markdown",
   "metadata": {}
  },
  {
   "cell_type": "code",
   "execution_count": 5,
   "metadata": {},
   "outputs": [
    {
     "output_type": "stream",
     "name": "stdout",
     "text": [
      "안녕하세요!\n공부하기\n"
     ]
    }
   ],
   "source": [
    "# 기반 클래스\n",
    "class Person:\n",
    "    def greeting(self):\n",
    "        print('안녕하세요!')\n",
    "\n",
    "# 파생 클래스\n",
    "class Student(Person):\n",
    "    def study(self):\n",
    "        print('공부하기')\n",
    "\n",
    "james = Student()\n",
    "james.greeting() # 기반 클래스의 메서드 호출\n",
    "james.study()    # 파생 클래스에 추가한 study 메서드\n",
    "\n",
    "# Student 클래스에 greeting 메서드는 없지만 클래스를 상속 받았으므로 메서드를 호출할 수 있음"
   ]
  },
  {
   "source": [
    "#### 참고) 상속관계 확인하기\n",
    "- issubclass 함수 사용 <br>\n",
    "        * issubclass(파생클래스, 기반 클래스)"
   ],
   "cell_type": "markdown",
   "metadata": {}
  },
  {
   "cell_type": "code",
   "execution_count": 6,
   "metadata": {},
   "outputs": [
    {
     "output_type": "execute_result",
     "data": {
      "text/plain": [
       "True"
      ]
     },
     "metadata": {},
     "execution_count": 6
    }
   ],
   "source": [
    "class Person:\n",
    "    pass\n",
    "class Student(Person):\n",
    "    pass\n",
    "\n",
    "issubclass(Student, Person)"
   ]
  },
  {
   "source": [
    "## 36.2 상속 관계와 포함 관계 알아보기"
   ],
   "cell_type": "markdown",
   "metadata": {}
  },
  {
   "source": [
    "### 36.2.1 상속 관계\n",
    "- 상속은 명확하게 같은 종류이며 동등한 관계일 때 사용"
   ],
   "cell_type": "markdown",
   "metadata": {}
  },
  {
   "source": [
    "### 36.2.2 포함 관계\n",
    "- 같은 종류에 동등한 관계일때는 상속, 그 외에는속성에 인스턴스를 넣는 포함 방식"
   ],
   "cell_type": "markdown",
   "metadata": {}
  },
  {
   "cell_type": "code",
   "execution_count": 19,
   "metadata": {},
   "outputs": [
    {
     "output_type": "stream",
     "name": "stdout",
     "text": [
      "안녕하세요!\n"
     ]
    }
   ],
   "source": [
    "# 기반 클래스\n",
    "class Person:\n",
    "    def greeting(self):\n",
    "        print('안녕하세요!')\n",
    "\n",
    "# 파생 클래스\n",
    "class Personlist:\n",
    "    def __init__(self):\n",
    "        self.personlist=[]  # 리스트 속성에 Person 인스턴스를 넣어서 관리\n",
    "    \n",
    "    def append_person(self, person):\n",
    "        self.personlist.append(person) # 리스트 속성에 Person 인스턴스를 추가하는 함수\n",
    "\n",
    "james = Person()\n",
    "james.greeting()\n"
   ]
  },
  {
   "source": [
    "## 36.3 기반 클래스의 속성 사용하기"
   ],
   "cell_type": "markdown",
   "metadata": {}
  },
  {
   "cell_type": "code",
   "execution_count": 21,
   "metadata": {},
   "outputs": [
    {
     "output_type": "stream",
     "name": "stdout",
     "text": [
      "Student __init__\n파이썬 코딩도장\n"
     ]
    },
    {
     "output_type": "error",
     "ename": "AttributeError",
     "evalue": "'Student' object has no attribute 'hello'",
     "traceback": [
      "\u001b[1;31m---------------------------------------------------------------------------\u001b[0m",
      "\u001b[1;31mAttributeError\u001b[0m                            Traceback (most recent call last)",
      "\u001b[1;32m<ipython-input-21-e022d462e80e>\u001b[0m in \u001b[0;36m<module>\u001b[1;34m\u001b[0m\n\u001b[0;32m     11\u001b[0m \u001b[0mjames\u001b[0m \u001b[1;33m=\u001b[0m \u001b[0mStudent\u001b[0m\u001b[1;33m(\u001b[0m\u001b[1;33m)\u001b[0m\u001b[1;33m\u001b[0m\u001b[1;33m\u001b[0m\u001b[0m\n\u001b[0;32m     12\u001b[0m \u001b[0mprint\u001b[0m\u001b[1;33m(\u001b[0m\u001b[0mjames\u001b[0m\u001b[1;33m.\u001b[0m\u001b[0mschool\u001b[0m\u001b[1;33m)\u001b[0m\u001b[1;33m\u001b[0m\u001b[1;33m\u001b[0m\u001b[0m\n\u001b[1;32m---> 13\u001b[1;33m \u001b[0mprint\u001b[0m\u001b[1;33m(\u001b[0m\u001b[0mjames\u001b[0m\u001b[1;33m.\u001b[0m\u001b[0mhello\u001b[0m\u001b[1;33m)\u001b[0m\u001b[1;33m\u001b[0m\u001b[1;33m\u001b[0m\u001b[0m\n\u001b[0m",
      "\u001b[1;31mAttributeError\u001b[0m: 'Student' object has no attribute 'hello'"
     ]
    }
   ],
   "source": [
    "class Person:\n",
    "    def __init__(self):\n",
    "        print('Person __init__')\n",
    "        self.hello = '안녕하세요'\n",
    "\n",
    "class Student(Person):\n",
    "    def __init__(self):\n",
    "        print('Student __init__')\n",
    "        self.school = '파이썬 코딩도장'\n",
    "\n",
    "james = Student()\n",
    "print(james.school)\n",
    "print(james.hello) # Student 클래스는 hello 메서드를 가지고 있지 않기 때문에 오류"
   ]
  },
  {
   "source": [
    "### 36.3.1 super()로 기반 클래스 초기화하기\n",
    "- super()를 사용해서 기반 클래스의 __init__ 메서드 호출"
   ],
   "cell_type": "markdown",
   "metadata": {}
  },
  {
   "cell_type": "code",
   "execution_count": 22,
   "metadata": {},
   "outputs": [
    {
     "output_type": "stream",
     "name": "stdout",
     "text": [
      "Student __init__\nPerson __init__\n파이썬 코딩도장\n안녕하세요\n"
     ]
    }
   ],
   "source": [
    "class Person:\n",
    "    def __init__(self):\n",
    "        print('Person __init__')\n",
    "        self.hello = '안녕하세요'\n",
    "\n",
    "class Student(Person):\n",
    "    def __init__(self):\n",
    "        print('Student __init__')\n",
    "        super().__init__()  # super()로 기반 클래스의 __init__ 메서드 호출\n",
    "        self.school = '파이썬 코딩도장'\n",
    "\n",
    "james = Student()\n",
    "print(james.school)\n",
    "print(james.hello)"
   ]
  },
  {
   "source": [
    "### 36.3.2 기반 클래스를 초기화하지 않아도 되는 경우\n",
    "- 파생 클래스에서 __init__ 메서드를 생략한다면 기반 클래스의 __init__이 자동으로 호출"
   ],
   "cell_type": "markdown",
   "metadata": {}
  },
  {
   "cell_type": "code",
   "execution_count": 24,
   "metadata": {},
   "outputs": [
    {
     "output_type": "stream",
     "name": "stdout",
     "text": [
      "Person __init__\n안녕하세요\n"
     ]
    }
   ],
   "source": [
    "class Person:\n",
    "    def __init__(self):\n",
    "        print('Person __init__')\n",
    "        self.hello = '안녕하세요'\n",
    "\n",
    "class Student(Person):\n",
    "    pass\n",
    "\n",
    "james = Student()\n",
    "print(james.hello)"
   ]
  },
  {
   "source": [
    "#### 참고) 좀 더 명확하게 super 사용하기\n",
    "- super(파생클래스,self)) : 현재 클래스가 어떤 클래스인지 명확하게 표시 "
   ],
   "cell_type": "markdown",
   "metadata": {}
  },
  {
   "cell_type": "code",
   "execution_count": null,
   "metadata": {},
   "outputs": [],
   "source": [
    "# super(파생클래스, self).메서드()\n",
    "class Persom:\n",
    "    def __init__(self):\n",
    "        print('Person __init__')\n",
    "        super(Student, self).__init__() \n",
    "        self.school = '파이썬 코딩'\n"
   ]
  }
 ]
}