{
 "metadata": {
  "language_info": {
   "codemirror_mode": {
    "name": "ipython",
    "version": 3
   },
   "file_extension": ".py",
   "mimetype": "text/x-python",
   "name": "python",
   "nbconvert_exporter": "python",
   "pygments_lexer": "ipython3",
   "version": "3.8.5-final"
  },
  "orig_nbformat": 2,
  "kernelspec": {
   "name": "python3",
   "display_name": "Python 3",
   "language": "python"
  }
 },
 "nbformat": 4,
 "nbformat_minor": 2,
 "cells": [
  {
   "source": [
    "## 35. 클래스 속성과 정적, 클래스 메서드 사용하기\n",
    "- 클래스에 속해 있는 클래스 속성 알아보기\n",
    "- 인스턴스를 만들지 않고 클래스로 호출하는 정적 메서드와 클래스 메서드 사용"
   ],
   "cell_type": "markdown",
   "metadata": {}
  },
  {
   "source": [
    "## 35.1 클래스 속성과 인스턴스 속성 알아보기\n",
    "- 속성은 2가지 종류\n",
    "    - 클래스 속성\n",
    "    - 인스턴스 속성 : __init__"
   ],
   "cell_type": "markdown",
   "metadata": {}
  },
  {
   "source": [
    "### 35.1.1 클래스 속성 사용하기\n",
    "<pre>\n",
    "<code>\n",
    "class 클래스이름:\n",
    "    속성 = 값\n",
    "</code>\n",
    "</pre>"
   ],
   "cell_type": "markdown",
   "metadata": {}
  },
  {
   "cell_type": "code",
   "execution_count": 3,
   "metadata": {},
   "outputs": [
    {
     "output_type": "stream",
     "name": "stdout",
     "text": [
      "['책', '열쇠']\n['책', '열쇠']\n"
     ]
    }
   ],
   "source": [
    "# 클래스 속성은 클래스에 속해 있으면 모든 인스턴스에서 공유\n",
    "class Person:\n",
    "    bag = [] # bag 속성\n",
    "\n",
    "    def put_bag(self, stuff): #put_bag 메서드\n",
    "        self.bag.append(stuff) ## self는 현재 인스턴스를 뜻하므로 클래스 속성을 지칭하기에는 모호\n",
    "\n",
    "james=Person()\n",
    "james.put_bag('책')\n",
    "\n",
    "maria=Person()\n",
    "maria.put_bag('열쇠')\n",
    "\n",
    "\n",
    "print(james.bag)\n",
    "print(maria.bag)"
   ]
  },
  {
   "cell_type": "code",
   "execution_count": 14,
   "metadata": {},
   "outputs": [
    {
     "output_type": "stream",
     "name": "stdout",
     "text": [
      "['책', '열쇠']\n"
     ]
    }
   ],
   "source": [
    "# 클래스 속성은 클래스에 속해 있으면 모든 인스턴스에서 공유\n",
    "class Person:\n",
    "    bag = [] # bag 속성\n",
    "\n",
    "    def put_bag(self, stuff): #put_bag 메서드\n",
    "        Person.bag.append(stuff) ## self는 현재 인스턴스를 뜻하므로 클래스 속성을 지칭하기에는 모호\n",
    "\n",
    "james=Person()\n",
    "james.put_bag('책')\n",
    "\n",
    "maria=Person()\n",
    "maria.put_bag('열쇠')\n",
    "\n",
    "print(Person.bag)"
   ]
  },
  {
   "source": [
    "#### 속성, 메서드 이름을 찾는 순서\n",
    "- 인스턴스, 클래스 순으로 찾음"
   ],
   "cell_type": "markdown",
   "metadata": {}
  },
  {
   "cell_type": "code",
   "execution_count": 9,
   "metadata": {},
   "outputs": [
    {
     "output_type": "stream",
     "name": "stdout",
     "text": [
      "{}\n{'__module__': '__main__', 'bag': ['책', '열쇠'], 'put_bag': <function Person.put_bag at 0x7fd4f5059310>, '__dict__': <attribute '__dict__' of 'Person' objects>, '__weakref__': <attribute '__weakref__' of 'Person' objects>, '__doc__': None}\n"
     ]
    }
   ],
   "source": [
    "print(james.__dict__)\n",
    "print(Person.__dict__)"
   ]
  },
  {
   "cell_type": "code",
   "execution_count": 15,
   "metadata": {},
   "outputs": [
    {
     "output_type": "stream",
     "name": "stdout",
     "text": [
      "['책', '열쇠']\n['책', '열쇠']\n"
     ]
    }
   ],
   "source": [
    "# 인스턴스 속성을 불러왔지만 인스턴스 속성이 없으므로 클래스 속성을 찾게 됨\n",
    "# 그래서 둘다 [책, 열쇠]가 나옴\n",
    "print(james.bag)\n",
    "print(maria.bag)"
   ]
  },
  {
   "source": [
    "### 35.1.2 인스턴스 속성 사용하기"
   ],
   "cell_type": "markdown",
   "metadata": {}
  },
  {
   "cell_type": "code",
   "execution_count": 12,
   "metadata": {},
   "outputs": [
    {
     "output_type": "stream",
     "name": "stdout",
     "text": [
      "{'bag': ['책']}\n['책']\n['열쇠']\n"
     ]
    }
   ],
   "source": [
    "# 클래스 속성은 클래스에 속해 있으면 모든 인스턴스에서 공유\n",
    "class Person:\n",
    "    def __init__(self): # 인스턴스 속성 사용하기\n",
    "        self.bag = []\n",
    "    \n",
    "    def put_bag(self, stuff): #put_bag 메서드\n",
    "        self.bag.append(stuff) ## self는 현재 인스턴스를 뜻하므로 클래스 속성을 지칭하기에는 모호\n",
    "\n",
    "james=Person()\n",
    "james.put_bag('책')\n",
    "\n",
    "maria=Person()\n",
    "maria.put_bag('열쇠')\n",
    "\n",
    "print(james.__dict__)\n",
    "print(james.bag)\n",
    "print(maria.bag)"
   ]
  },
  {
   "source": [
    "### 35.1.3 비공개 클래스 속성 사용하기       \n",
    "- 클래스 안에서만 접근가능\n",
    "                \n",
    "<pre>\n",
    "<code>\n",
    "class 클래스이름:\n",
    "    __속성 = 값\n",
    "</code>\n",
    "</pre>"
   ],
   "cell_type": "markdown",
   "metadata": {}
  },
  {
   "cell_type": "code",
   "execution_count": 25,
   "metadata": {},
   "outputs": [
    {
     "output_type": "stream",
     "name": "stdout",
     "text": [
      "10\n"
     ]
    }
   ],
   "source": [
    "class Knight:\n",
    "    __item_limit = 10 # 비공개 클래스 속성\n",
    "\n",
    "    def print_item_limit(self):\n",
    "        print(Knight.__item_limit) # 클래스 안에서만 접근할 수 있음\n",
    "\n",
    "x = Knight()\n",
    "x.print_item_limit()\n",
    "# print(Knight.__item_limit) # 클래스 바깥에서는 접근할수 없음"
   ]
  },
  {
   "source": [
    "#### 클래스와 메서드의 독스트링 사용하기"
   ],
   "cell_type": "markdown",
   "metadata": {}
  },
  {
   "cell_type": "code",
   "execution_count": 27,
   "metadata": {},
   "outputs": [
    {
     "output_type": "stream",
     "name": "stdout",
     "text": [
      "사람 클래스입니다\n인사메서드 입니다\n"
     ]
    }
   ],
   "source": [
    "class Person:\n",
    "    '''사람 클래스입니다'''\n",
    "    def greeting(self):\n",
    "        '''인사메서드 입니다'''\n",
    "        print(\"Hello\")\n",
    "\n",
    "print(Person.__doc__)\n",
    "print(Person.greeting.__doc__)"
   ]
  }
 ]
}